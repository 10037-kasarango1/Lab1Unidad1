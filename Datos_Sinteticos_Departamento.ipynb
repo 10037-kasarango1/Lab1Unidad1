{
  "nbformat": 4,
  "nbformat_minor": 0,
  "metadata": {
    "colab": {
      "provenance": []
    },
    "kernelspec": {
      "name": "python3",
      "display_name": "Python 3"
    },
    "language_info": {
      "name": "python"
    }
  },
  "cells": [
    {
      "cell_type": "markdown",
      "source": [
        "# Conjunto de datos para la entidad \"Departamentos\""
      ],
      "metadata": {
        "id": "RNXGCUc4Yo43"
      }
    },
    {
      "cell_type": "code",
      "execution_count": 16,
      "metadata": {
        "colab": {
          "base_uri": "https://localhost:8080/"
        },
        "id": "5iOJnSVfN258",
        "outputId": "35142b32-26d3-4596-9db9-55c8ca1c9191"
      },
      "outputs": [
        {
          "output_type": "stream",
          "name": "stdout",
          "text": [
            "Looking in indexes: https://pypi.org/simple, https://us-python.pkg.dev/colab-wheels/public/simple/\n",
            "Requirement already satisfied: faker in /usr/local/lib/python3.7/dist-packages (15.3.2)\n",
            "Requirement already satisfied: python-dateutil>=2.4 in /usr/local/lib/python3.7/dist-packages (from faker) (2.8.2)\n",
            "Requirement already satisfied: typing-extensions>=3.10.0.1 in /usr/local/lib/python3.7/dist-packages (from faker) (4.1.1)\n",
            "Requirement already satisfied: six>=1.5 in /usr/local/lib/python3.7/dist-packages (from python-dateutil>=2.4->faker) (1.15.0)\n"
          ]
        }
      ],
      "source": [
        "# Uso del Pip install para poder importar la librería faker\n",
        "!pip install faker"
      ]
    },
    {
      "cell_type": "code",
      "source": [
        "# Importar librería pandas para manejar y analizar datos\n",
        "import pandas as pd\n",
        "# Importar librería uuid para crear identificadores únicos.\n",
        "import uuid\n",
        "# Importar librería random para generar datos aleatorios.\n",
        "import random\n",
        "# Importar el paquete faker para generar datos fasos.\n",
        "from faker import Faker"
      ],
      "metadata": {
        "id": "08yWei_ON4rD"
      },
      "execution_count": 98,
      "outputs": []
    },
    {
      "cell_type": "code",
      "source": [
        "# Delimitación del rango del número de elementos.\n",
        "num_departamento = 5000"
      ],
      "metadata": {
        "id": "sw4fDpAMN5ts"
      },
      "execution_count": 110,
      "outputs": []
    },
    {
      "cell_type": "code",
      "source": [
        "# Una lista de 4 características del departamento\n",
        "features = [\n",
        "    \"id\",\n",
        "    \"name\",\n",
        "    \"institution\",\n",
        "    \"kind\"\n",
        "]\n",
        "# Creación de un DF para estas características\n",
        "df = pd.DataFrame(columns=features)"
      ],
      "metadata": {
        "id": "35nMRsU2N69x"
      },
      "execution_count": 122,
      "outputs": []
    },
    {
      "cell_type": "code",
      "execution_count": 123,
      "metadata": {
        "id": "9417eb1d",
        "colab": {
          "base_uri": "https://localhost:8080/",
          "height": 36
        },
        "outputId": "a5cbfd22-95cd-42c7-ab3d-b654ed58bc17"
      },
      "outputs": [
        {
          "output_type": "execute_result",
          "data": {
            "text/plain": [
              "'\\nUso de la biblioteca uuid para generar una cadena aleatoria de caracteres 5000 veces.\\nPor consigiente, se lo asigna al atributo ID en el marco de datos.\\n'"
            ],
            "application/vnd.google.colaboratory.intrinsic+json": {
              "type": "string"
            }
          },
          "metadata": {},
          "execution_count": 123
        }
      ],
      "source": [
        "# Id del Departamento\n",
        "df['id'] = [uuid.uuid4().hex for i in range(num_departamento)]\n",
        "\"\"\"\n",
        "Uso de la biblioteca uuid para generar una cadena aleatoria de caracteres 5000 veces.\n",
        "Por consigiente, se lo asigna al atributo ID en el marco de datos.\n",
        "\"\"\""
      ]
    },
    {
      "cell_type": "code",
      "execution_count": 124,
      "metadata": {
        "colab": {
          "base_uri": "https://localhost:8080/"
        },
        "id": "4be6d244",
        "outputId": "3a821b20-136a-4114-856a-ada626dd6442"
      },
      "outputs": [
        {
          "output_type": "stream",
          "name": "stdout",
          "text": [
            "True\n"
          ]
        }
      ],
      "source": [
        "\"\"\"\n",
        "En caso de desear asegurarse de que no se repitieron las ID,\n",
        "puede realizar una verificación simple en el marco de datos con lo siguiente:\n",
        "\"\"\"\n",
        "print(df['id'].nunique()==num_departamento)"
      ]
    },
    {
      "cell_type": "code",
      "execution_count": 125,
      "metadata": {
        "id": "53792c85"
      },
      "outputs": [],
      "source": [
        "# Tipo de departamento\n",
        "kind = [\"Propulsion\", \"Armament\", \"Communication\"]"
      ]
    },
    {
      "cell_type": "code",
      "execution_count": 126,
      "metadata": {
        "id": "bc4eb9a8",
        "colab": {
          "base_uri": "https://localhost:8080/",
          "height": 53
        },
        "outputId": "fd394669-8776-48e0-f35d-9ad41ded6862"
      },
      "outputs": [
        {
          "output_type": "execute_result",
          "data": {
            "text/plain": [
              "'\\nCon la lista generada de las opciones de tipos de departamento, se proporciona la\\nfunción de opciones pesos para cada función y la cantidad de opciones hacer representadas\\npor \"k\". Por consiguiente, se asignó al atributo de \"kind\" del marco de datos.\\n'"
            ],
            "application/vnd.google.colaboratory.intrinsic+json": {
              "type": "string"
            }
          },
          "metadata": {},
          "execution_count": 126
        }
      ],
      "source": [
        "df['kind'] = random.choices(\n",
        "    kind, \n",
        "    weights=(25,25,25), \n",
        "    k=num_departamento\n",
        ")\n",
        "\"\"\"\n",
        "Con la lista generada de las opciones de tipos de departamento, se proporciona la\n",
        "función de opciones pesos para cada función y la cantidad de opciones hacer representadas\n",
        "por \"k\". Por consiguiente, se asignó al atributo de \"kind\" del marco de datos.\n",
        "\"\"\""
      ]
    },
    {
      "cell_type": "code",
      "execution_count": 127,
      "metadata": {
        "id": "Jk_Iu1EHQFoL"
      },
      "outputs": [],
      "source": [
        "# Institución a la que pertenece el departamento\n",
        "institution = [\"Nasa\", \"DoD\"]"
      ]
    },
    {
      "cell_type": "code",
      "execution_count": 128,
      "metadata": {
        "colab": {
          "base_uri": "https://localhost:8080/",
          "height": 53
        },
        "id": "ixMFmFPuQFoN",
        "outputId": "3a98c530-d8e0-4c42-99db-b0a318aa999a"
      },
      "outputs": [
        {
          "output_type": "execute_result",
          "data": {
            "text/plain": [
              "'\\nCon la lista generada de las opciones de institución, se proporciona la función\\nde opciones pesos para cada función y la cantidad de opciones hacer representadas\\npor \"k\". Por consiguiente, se asignó al atributo de \"institution\" del marco de datos.\\n'"
            ],
            "application/vnd.google.colaboratory.intrinsic+json": {
              "type": "string"
            }
          },
          "metadata": {},
          "execution_count": 128
        }
      ],
      "source": [
        "df['institution'] = random.choices(\n",
        "    institution, \n",
        "    weights=(45,55), \n",
        "    k=num_departamento\n",
        ")\n",
        "\"\"\"\n",
        "Con la lista generada de las opciones de institución, se proporciona la función\n",
        "de opciones pesos para cada función y la cantidad de opciones hacer representadas\n",
        "por \"k\". Por consiguiente, se asignó al atributo de \"institution\" del marco de datos.\n",
        "\"\"\""
      ]
    },
    {
      "cell_type": "code",
      "source": [
        "# Nombre del Departamento\n",
        "# Creación de instancias de falsificador\n",
        "faker = Faker()\n",
        "\n",
        "def name_gen(institution):\n",
        "    \"\"\"\n",
        "    Genera rápidamente un nombre de departamento\n",
        "    \"\"\"\n",
        "    faker.nic_handle()\n",
        "        \n",
        "    return faker.nic_handle()\n",
        "    \n",
        "# Generación de nombres para cada departamento\n",
        "df['name'] = ['Department '+name_gen(i) for i in df['institution']]"
      ],
      "metadata": {
        "id": "Z0izsN4gO2mb"
      },
      "execution_count": 129,
      "outputs": []
    },
    {
      "cell_type": "code",
      "source": [
        "# Guardar el conjunto de datos\n",
        "df.to_csv('dataset_departamento.csv')"
      ],
      "metadata": {
        "id": "9i2Hy1wqPLYi"
      },
      "execution_count": 130,
      "outputs": []
    },
    {
      "cell_type": "code",
      "source": [
        "# Mostrar el conjunto de datos\n",
        "pd.read_csv('dataset_departamento.csv', index_col=0) "
      ],
      "metadata": {
        "colab": {
          "base_uri": "https://localhost:8080/",
          "height": 424
        },
        "id": "gppaUQ4gPLiB",
        "outputId": "2c374de8-77c5-42d5-8772-e37b718d4b62"
      },
      "execution_count": 131,
      "outputs": [
        {
          "output_type": "execute_result",
          "data": {
            "text/plain": [
              "                                    id                      name institution  \\\n",
              "0     db2a4ebc91b64118afa1d41c5d5720cb     Department BPM19-FAKE         DoD   \n",
              "1     308a3264af35430d86813445b4cc77a3   Department DKWD131-FAKE        Nasa   \n",
              "2     3abec39a13c34084adc49061e836ba68  Department ELU54774-FAKE        Nasa   \n",
              "3     ad96ca4b2cb64f1dae66cc998bc38176    Department RHIX36-FAKE        Nasa   \n",
              "4     15029bc3da8444c480e134aa060e14cd     Department FTR69-FAKE         DoD   \n",
              "...                                ...                       ...         ...   \n",
              "4995  5423b653c6fd42329ca22e652de7f501     Department GN992-FAKE         DoD   \n",
              "4996  c84cf14faf1944829ef001e1c89be1b0      Department DGD4-FAKE        Nasa   \n",
              "4997  fa4a528bdfdf4f469df7a31aa1e03699   Department RI16222-FAKE         DoD   \n",
              "4998  adc578118e244ef4a230a28a0803622a   Department OC54145-FAKE         DoD   \n",
              "4999  950c1855cc3e4a6abc628dad1b63fd3e    Department FLNW44-FAKE         DoD   \n",
              "\n",
              "               kind  \n",
              "0        Propulsion  \n",
              "1        Propulsion  \n",
              "2     Communication  \n",
              "3     Communication  \n",
              "4          Armament  \n",
              "...             ...  \n",
              "4995  Communication  \n",
              "4996  Communication  \n",
              "4997     Propulsion  \n",
              "4998       Armament  \n",
              "4999  Communication  \n",
              "\n",
              "[5000 rows x 4 columns]"
            ],
            "text/html": [
              "\n",
              "  <div id=\"df-bea4cc6b-69ae-45e0-8e73-5986d9ea6a58\">\n",
              "    <div class=\"colab-df-container\">\n",
              "      <div>\n",
              "<style scoped>\n",
              "    .dataframe tbody tr th:only-of-type {\n",
              "        vertical-align: middle;\n",
              "    }\n",
              "\n",
              "    .dataframe tbody tr th {\n",
              "        vertical-align: top;\n",
              "    }\n",
              "\n",
              "    .dataframe thead th {\n",
              "        text-align: right;\n",
              "    }\n",
              "</style>\n",
              "<table border=\"1\" class=\"dataframe\">\n",
              "  <thead>\n",
              "    <tr style=\"text-align: right;\">\n",
              "      <th></th>\n",
              "      <th>id</th>\n",
              "      <th>name</th>\n",
              "      <th>institution</th>\n",
              "      <th>kind</th>\n",
              "    </tr>\n",
              "  </thead>\n",
              "  <tbody>\n",
              "    <tr>\n",
              "      <th>0</th>\n",
              "      <td>db2a4ebc91b64118afa1d41c5d5720cb</td>\n",
              "      <td>Department BPM19-FAKE</td>\n",
              "      <td>DoD</td>\n",
              "      <td>Propulsion</td>\n",
              "    </tr>\n",
              "    <tr>\n",
              "      <th>1</th>\n",
              "      <td>308a3264af35430d86813445b4cc77a3</td>\n",
              "      <td>Department DKWD131-FAKE</td>\n",
              "      <td>Nasa</td>\n",
              "      <td>Propulsion</td>\n",
              "    </tr>\n",
              "    <tr>\n",
              "      <th>2</th>\n",
              "      <td>3abec39a13c34084adc49061e836ba68</td>\n",
              "      <td>Department ELU54774-FAKE</td>\n",
              "      <td>Nasa</td>\n",
              "      <td>Communication</td>\n",
              "    </tr>\n",
              "    <tr>\n",
              "      <th>3</th>\n",
              "      <td>ad96ca4b2cb64f1dae66cc998bc38176</td>\n",
              "      <td>Department RHIX36-FAKE</td>\n",
              "      <td>Nasa</td>\n",
              "      <td>Communication</td>\n",
              "    </tr>\n",
              "    <tr>\n",
              "      <th>4</th>\n",
              "      <td>15029bc3da8444c480e134aa060e14cd</td>\n",
              "      <td>Department FTR69-FAKE</td>\n",
              "      <td>DoD</td>\n",
              "      <td>Armament</td>\n",
              "    </tr>\n",
              "    <tr>\n",
              "      <th>...</th>\n",
              "      <td>...</td>\n",
              "      <td>...</td>\n",
              "      <td>...</td>\n",
              "      <td>...</td>\n",
              "    </tr>\n",
              "    <tr>\n",
              "      <th>4995</th>\n",
              "      <td>5423b653c6fd42329ca22e652de7f501</td>\n",
              "      <td>Department GN992-FAKE</td>\n",
              "      <td>DoD</td>\n",
              "      <td>Communication</td>\n",
              "    </tr>\n",
              "    <tr>\n",
              "      <th>4996</th>\n",
              "      <td>c84cf14faf1944829ef001e1c89be1b0</td>\n",
              "      <td>Department DGD4-FAKE</td>\n",
              "      <td>Nasa</td>\n",
              "      <td>Communication</td>\n",
              "    </tr>\n",
              "    <tr>\n",
              "      <th>4997</th>\n",
              "      <td>fa4a528bdfdf4f469df7a31aa1e03699</td>\n",
              "      <td>Department RI16222-FAKE</td>\n",
              "      <td>DoD</td>\n",
              "      <td>Propulsion</td>\n",
              "    </tr>\n",
              "    <tr>\n",
              "      <th>4998</th>\n",
              "      <td>adc578118e244ef4a230a28a0803622a</td>\n",
              "      <td>Department OC54145-FAKE</td>\n",
              "      <td>DoD</td>\n",
              "      <td>Armament</td>\n",
              "    </tr>\n",
              "    <tr>\n",
              "      <th>4999</th>\n",
              "      <td>950c1855cc3e4a6abc628dad1b63fd3e</td>\n",
              "      <td>Department FLNW44-FAKE</td>\n",
              "      <td>DoD</td>\n",
              "      <td>Communication</td>\n",
              "    </tr>\n",
              "  </tbody>\n",
              "</table>\n",
              "<p>5000 rows × 4 columns</p>\n",
              "</div>\n",
              "      <button class=\"colab-df-convert\" onclick=\"convertToInteractive('df-bea4cc6b-69ae-45e0-8e73-5986d9ea6a58')\"\n",
              "              title=\"Convert this dataframe to an interactive table.\"\n",
              "              style=\"display:none;\">\n",
              "        \n",
              "  <svg xmlns=\"http://www.w3.org/2000/svg\" height=\"24px\"viewBox=\"0 0 24 24\"\n",
              "       width=\"24px\">\n",
              "    <path d=\"M0 0h24v24H0V0z\" fill=\"none\"/>\n",
              "    <path d=\"M18.56 5.44l.94 2.06.94-2.06 2.06-.94-2.06-.94-.94-2.06-.94 2.06-2.06.94zm-11 1L8.5 8.5l.94-2.06 2.06-.94-2.06-.94L8.5 2.5l-.94 2.06-2.06.94zm10 10l.94 2.06.94-2.06 2.06-.94-2.06-.94-.94-2.06-.94 2.06-2.06.94z\"/><path d=\"M17.41 7.96l-1.37-1.37c-.4-.4-.92-.59-1.43-.59-.52 0-1.04.2-1.43.59L10.3 9.45l-7.72 7.72c-.78.78-.78 2.05 0 2.83L4 21.41c.39.39.9.59 1.41.59.51 0 1.02-.2 1.41-.59l7.78-7.78 2.81-2.81c.8-.78.8-2.07 0-2.86zM5.41 20L4 18.59l7.72-7.72 1.47 1.35L5.41 20z\"/>\n",
              "  </svg>\n",
              "      </button>\n",
              "      \n",
              "  <style>\n",
              "    .colab-df-container {\n",
              "      display:flex;\n",
              "      flex-wrap:wrap;\n",
              "      gap: 12px;\n",
              "    }\n",
              "\n",
              "    .colab-df-convert {\n",
              "      background-color: #E8F0FE;\n",
              "      border: none;\n",
              "      border-radius: 50%;\n",
              "      cursor: pointer;\n",
              "      display: none;\n",
              "      fill: #1967D2;\n",
              "      height: 32px;\n",
              "      padding: 0 0 0 0;\n",
              "      width: 32px;\n",
              "    }\n",
              "\n",
              "    .colab-df-convert:hover {\n",
              "      background-color: #E2EBFA;\n",
              "      box-shadow: 0px 1px 2px rgba(60, 64, 67, 0.3), 0px 1px 3px 1px rgba(60, 64, 67, 0.15);\n",
              "      fill: #174EA6;\n",
              "    }\n",
              "\n",
              "    [theme=dark] .colab-df-convert {\n",
              "      background-color: #3B4455;\n",
              "      fill: #D2E3FC;\n",
              "    }\n",
              "\n",
              "    [theme=dark] .colab-df-convert:hover {\n",
              "      background-color: #434B5C;\n",
              "      box-shadow: 0px 1px 3px 1px rgba(0, 0, 0, 0.15);\n",
              "      filter: drop-shadow(0px 1px 2px rgba(0, 0, 0, 0.3));\n",
              "      fill: #FFFFFF;\n",
              "    }\n",
              "  </style>\n",
              "\n",
              "      <script>\n",
              "        const buttonEl =\n",
              "          document.querySelector('#df-bea4cc6b-69ae-45e0-8e73-5986d9ea6a58 button.colab-df-convert');\n",
              "        buttonEl.style.display =\n",
              "          google.colab.kernel.accessAllowed ? 'block' : 'none';\n",
              "\n",
              "        async function convertToInteractive(key) {\n",
              "          const element = document.querySelector('#df-bea4cc6b-69ae-45e0-8e73-5986d9ea6a58');\n",
              "          const dataTable =\n",
              "            await google.colab.kernel.invokeFunction('convertToInteractive',\n",
              "                                                     [key], {});\n",
              "          if (!dataTable) return;\n",
              "\n",
              "          const docLinkHtml = 'Like what you see? Visit the ' +\n",
              "            '<a target=\"_blank\" href=https://colab.research.google.com/notebooks/data_table.ipynb>data table notebook</a>'\n",
              "            + ' to learn more about interactive tables.';\n",
              "          element.innerHTML = '';\n",
              "          dataTable['output_type'] = 'display_data';\n",
              "          await google.colab.output.renderOutput(dataTable, element);\n",
              "          const docLink = document.createElement('div');\n",
              "          docLink.innerHTML = docLinkHtml;\n",
              "          element.appendChild(docLink);\n",
              "        }\n",
              "      </script>\n",
              "    </div>\n",
              "  </div>\n",
              "  "
            ]
          },
          "metadata": {},
          "execution_count": 131
        }
      ]
    }
  ]
}