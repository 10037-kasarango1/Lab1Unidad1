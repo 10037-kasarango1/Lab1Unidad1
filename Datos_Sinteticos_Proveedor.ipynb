{
  "nbformat": 4,
  "nbformat_minor": 0,
  "metadata": {
    "colab": {
      "provenance": []
    },
    "kernelspec": {
      "name": "python3",
      "display_name": "Python 3"
    },
    "language_info": {
      "name": "python"
    }
  },
  "cells": [
    {
      "cell_type": "markdown",
      "metadata": {
        "id": "c6482288"
      },
      "source": [
        "# Conjunto de datos para la entidad \"Proveedor\""
      ]
    },
    {
      "cell_type": "code",
      "source": [
        "# Uso del Pip install para poder importar la librería faker\n",
        "!pip install faker"
      ],
      "metadata": {
        "colab": {
          "base_uri": "https://localhost:8080/"
        },
        "id": "5Pmntp36v7hn",
        "outputId": "8a10f0b3-8b2d-4386-d7b5-ba91079d7785"
      },
      "execution_count": 26,
      "outputs": [
        {
          "output_type": "stream",
          "name": "stdout",
          "text": [
            "Looking in indexes: https://pypi.org/simple, https://us-python.pkg.dev/colab-wheels/public/simple/\n",
            "Requirement already satisfied: faker in /usr/local/lib/python3.7/dist-packages (15.3.2)\n",
            "Requirement already satisfied: typing-extensions>=3.10.0.1 in /usr/local/lib/python3.7/dist-packages (from faker) (4.1.1)\n",
            "Requirement already satisfied: python-dateutil>=2.4 in /usr/local/lib/python3.7/dist-packages (from faker) (2.8.2)\n",
            "Requirement already satisfied: six>=1.5 in /usr/local/lib/python3.7/dist-packages (from python-dateutil>=2.4->faker) (1.15.0)\n"
          ]
        }
      ]
    },
    {
      "cell_type": "code",
      "execution_count": 57,
      "metadata": {
        "id": "97b3d6da"
      },
      "outputs": [],
      "source": [
        "# Importar librería pandas para manejar y analizar datos\n",
        "import pandas as pd\n",
        "# Importar librería uuid para crear identificadores únicos.\n",
        "import uuid\n",
        "# Importar librería random para generar datos aleatorios.\n",
        "import random\n",
        "# Importar el paquete faker para generar datos fasos.\n",
        "from faker import Faker"
      ]
    },
    {
      "cell_type": "code",
      "execution_count": 37,
      "metadata": {
        "id": "29f6b5ac"
      },
      "outputs": [],
      "source": [
        "# Delimitación del rango del número de elementos.\n",
        "num_proveedor = 5000"
      ]
    },
    {
      "cell_type": "code",
      "execution_count": 58,
      "metadata": {
        "id": "5a145d81"
      },
      "outputs": [],
      "source": [
        "# Una lista de 7 características para la entidad proveedor\n",
        "features = [\n",
        "    \"id\",\n",
        "    \"name\",\n",
        "    \"kind\",\n",
        "    \"email\",\n",
        "    \"phone\",\n",
        "    \"description\",\n",
        "    \"status\"\n",
        "]\n",
        "# Creación de un DF para estas características\n",
        "df = pd.DataFrame(columns=features)"
      ]
    },
    {
      "cell_type": "code",
      "execution_count": 59,
      "metadata": {
        "id": "9417eb1d",
        "colab": {
          "base_uri": "https://localhost:8080/",
          "height": 36
        },
        "outputId": "3dc2a754-f7f3-49b7-d9e2-57179acc09e4"
      },
      "outputs": [
        {
          "output_type": "execute_result",
          "data": {
            "text/plain": [
              "'\\nUso de la biblioteca uuid para generar una cadena aleatoria de caracteres 5000 veces.\\nPor consigiente, se lo asigna al atributo ID en el marco de datos.\\n'"
            ],
            "application/vnd.google.colaboratory.intrinsic+json": {
              "type": "string"
            }
          },
          "metadata": {},
          "execution_count": 59
        }
      ],
      "source": [
        "# Id del proveedor\n",
        "df['id'] = [uuid.uuid4().hex for i in range(num_proveedor)]\n",
        "\"\"\"\n",
        "Uso de la biblioteca uuid para generar una cadena aleatoria de caracteres 5000 veces.\n",
        "Por consigiente, se lo asigna al atributo ID en el marco de datos.\n",
        "\"\"\""
      ]
    },
    {
      "cell_type": "code",
      "execution_count": 60,
      "metadata": {
        "colab": {
          "base_uri": "https://localhost:8080/",
          "height": 53
        },
        "id": "4be6d244",
        "outputId": "af40ef4b-3a3b-44a1-d80a-b8f84cdec1ba"
      },
      "outputs": [
        {
          "output_type": "stream",
          "name": "stdout",
          "text": [
            "True\n"
          ]
        },
        {
          "output_type": "execute_result",
          "data": {
            "text/plain": [
              "'\\nEn caso de desear asegurarse de que no se repitieron las ID,\\npuede realizar una verificación simple en el marco de datos con lo siguiente:\\n'"
            ],
            "application/vnd.google.colaboratory.intrinsic+json": {
              "type": "string"
            }
          },
          "metadata": {},
          "execution_count": 60
        }
      ],
      "source": [
        "print(df['id'].nunique()==num_proveedor)\n",
        "\"\"\"\n",
        "En caso de desear asegurarse de que no se repitieron las ID,\n",
        "puede realizar una verificación simple en el marco de datos con lo siguiente:\n",
        "\"\"\""
      ]
    },
    {
      "cell_type": "code",
      "execution_count": 61,
      "metadata": {
        "id": "hjvZ1r7ZNMg2"
      },
      "outputs": [],
      "source": [
        "# Tipo del Proveedor\n",
        "kind = [\"Electronics\",\n",
        "       \"Chemistry\",\n",
        "       \"na\"]"
      ]
    },
    {
      "cell_type": "code",
      "execution_count": 62,
      "metadata": {
        "id": "rwxmrcTjNMhB",
        "colab": {
          "base_uri": "https://localhost:8080/",
          "height": 53
        },
        "outputId": "b4e77e09-a80b-442b-8ec1-7e1cbfa10637"
      },
      "outputs": [
        {
          "output_type": "execute_result",
          "data": {
            "text/plain": [
              "'\\nCon la lista generada de las opciones de tipos de proveedor, se proporciona la\\nfunción de opciones pesos para cada función y la cantidad de opciones hacer representadas\\npor \"k\". Por consiguiente, se asignó al atributo de \"kind\" del marco de datos.\\n'"
            ],
            "application/vnd.google.colaboratory.intrinsic+json": {
              "type": "string"
            }
          },
          "metadata": {},
          "execution_count": 62
        }
      ],
      "source": [
        "df['kind'] = random.choices(\n",
        "    kind, \n",
        "    weights=(35,35,30), \n",
        "    k=num_proveedor\n",
        ")\n",
        "\"\"\"\n",
        "Con la lista generada de las opciones de tipos de proveedor, se proporciona la\n",
        "función de opciones pesos para cada función y la cantidad de opciones hacer representadas\n",
        "por \"k\". Por consiguiente, se asignó al atributo de \"kind\" del marco de datos.\n",
        "\"\"\""
      ]
    },
    {
      "cell_type": "code",
      "source": [
        "# Nombre del Proveedor\n",
        "# Creación de instancias de falsificador\n",
        "faker = Faker()\n",
        "\n",
        "def name_gen(guy):\n",
        "    \"\"\"\n",
        "    Genera rápidamente un nombre del proveedor\n",
        "    \"\"\"\n",
        "    faker.company()\n",
        "    \n",
        "    return faker.company()\n",
        "    \n",
        "# Generación de nombres para cada proveedor\n",
        "df['name'] = ['Company '+name_gen(i) for i in df['kind']]"
      ],
      "metadata": {
        "id": "Zx1_q5uBWsVH"
      },
      "execution_count": 64,
      "outputs": []
    },
    {
      "cell_type": "code",
      "execution_count": 65,
      "metadata": {
        "id": "670b3855"
      },
      "outputs": [],
      "source": [
        "# Email del proveedor\n",
        "def emailGen(name, duplicateFound=False):\n",
        "    \"\"\"\n",
        "    Genera una dirección de correo electrónico aleatoria basada en el nombre dado. \n",
        "    Agrega un número al final si se encontró una dirección duplicada.\n",
        "    \"\"\"\n",
        "    # Nombre de dominio falso para usar\n",
        "    dom = \"@pymes.com\"\n",
        "    \n",
        "    # Mayúsculas y minúsculas\n",
        "    name = name.lower().split(\" \")\n",
        "    \n",
        "    # Carácter aleatorio para insertar en el nombre\n",
        "    chars = [\".\", \"_\"]\n",
        "    \n",
        "    new_name = name[0] + random.choice(chars) + name[1] \n",
        "    \n",
        "    # Distinguir aún más el correo electrónico si se encontró un duplicado\n",
        "    if duplicateFound:\n",
        "        \n",
        "        # Número aleatorio para insertar al final\n",
        "        num = random.randint(0,100)\n",
        "        \n",
        "        # Insertar al final\n",
        "        new_name = new_name + str(num)\n",
        "        \n",
        "    # Devolver la dirección de correo electrónico con el nombre de dominio adjunto\n",
        "    return new_name + dom"
      ]
    },
    {
      "cell_type": "code",
      "execution_count": 66,
      "metadata": {
        "id": "97cd6b45"
      },
      "outputs": [],
      "source": [
        "emails = []\n",
        "\n",
        "for name in df['name']:\n",
        "    \n",
        "    # Generación del correo electrónico\n",
        "    email = emailGen(name)\n",
        "    \n",
        "    # Bucle hasta que se genere un correo electrónico único\n",
        "    while email in emails:\n",
        "        \n",
        "        # Crear un correo electrónico con un número aleatorio\n",
        "        email = emailGen(name, duplicateFound=True)\n",
        "    \n",
        "    # Adjuntar el nuevo correo electrónico a la lista\n",
        "    emails.append(email)\n",
        "    \n",
        "df['email'] = emails"
      ]
    },
    {
      "cell_type": "code",
      "source": [
        "# Número de Teléfono del proveedor\n",
        "# import module\n",
        "import random as r\n",
        "from random import seed\n",
        "from datetime import datetime\n",
        "num=[]\n",
        "size = 10\n",
        "\n",
        "for i in range(0, num_proveedor):\n",
        "  random.seed(datetime.now())\n",
        "  valores = [0,1,2,3,4,5,6,7,8,9]\n",
        "  num=(''.join([str(random.choice(valores)) for i in range(size)]))\n",
        "  df.phone[i]=num"
      ],
      "metadata": {
        "id": "EdSxLao_ycrF"
      },
      "execution_count": 67,
      "outputs": []
    },
    {
      "cell_type": "code",
      "source": [
        "# Descripción del proveedor\n",
        "import string\n",
        "import random\n",
        "bio=[]\n",
        "length_of_string = 20\n",
        "for i in range(0, num_proveedor):\n",
        "  random.seed(datetime.now())\n",
        "  bio=(''.join(random.SystemRandom().choice(string.ascii_letters + string.digits) for i in range(length_of_string)))\n",
        "  df.description[i] =bio"
      ],
      "metadata": {
        "id": "Y8aLlisgylkT"
      },
      "execution_count": 68,
      "outputs": []
    },
    {
      "cell_type": "code",
      "source": [
        "# Estado del proveedor\n",
        "status = [\"Active\", \"Inactive\"]"
      ],
      "metadata": {
        "id": "t7aIgebyy4Jz"
      },
      "execution_count": 69,
      "outputs": []
    },
    {
      "cell_type": "code",
      "source": [
        "df['status']= random.choices(\n",
        "    status, \n",
        "    weights=(45,55), \n",
        "    k=num_proveedor\n",
        ")\n",
        "\"\"\"\n",
        "Con la lista generada de las opciones de estados, se proporciona la\n",
        "función de opciones pesos para cada función y la cantidad de opciones hacer representadas\n",
        "por \"k\". Por consiguiente, se asignó al atributo de \"status\" del marco de datos.\n",
        "\"\"\""
      ],
      "metadata": {
        "id": "0iXuXo16y8Lx",
        "colab": {
          "base_uri": "https://localhost:8080/",
          "height": 53
        },
        "outputId": "f81fb0e8-c90e-4e55-ac70-b5a1b2e07295"
      },
      "execution_count": 70,
      "outputs": [
        {
          "output_type": "execute_result",
          "data": {
            "text/plain": [
              "'\\nCon la lista generada de las opciones de estados, se proporciona la\\nfunción de opciones pesos para cada función y la cantidad de opciones hacer representadas\\npor \"k\". Por consiguiente, se asignó al atributo de \"status\" del marco de datos.\\n'"
            ],
            "application/vnd.google.colaboratory.intrinsic+json": {
              "type": "string"
            }
          },
          "metadata": {},
          "execution_count": 70
        }
      ]
    },
    {
      "cell_type": "code",
      "execution_count": 71,
      "metadata": {
        "id": "b746f91d"
      },
      "outputs": [],
      "source": [
        "# Guardar el conjunto de datos\n",
        "df.to_csv('dataset_proveedor.csv')"
      ]
    },
    {
      "cell_type": "code",
      "source": [
        "# Mostrar el conjunto de datos\n",
        "pd.read_csv('dataset_proveedor.csv', index_col=0)"
      ],
      "metadata": {
        "colab": {
          "base_uri": "https://localhost:8080/",
          "height": 424
        },
        "id": "qpb0O0OjfRby",
        "outputId": "4e09123f-f07c-483f-e540-7e17cde011a3"
      },
      "execution_count": 72,
      "outputs": [
        {
          "output_type": "execute_result",
          "data": {
            "text/plain": [
              "                                    id                                name  \\\n",
              "0     548943ff619c4beea232f018f34aa74a    Company Smith, Welch and Whitney   \n",
              "1     ece506e1ff9f455fb207a5183c97b791            Company Johnson-Griffith   \n",
              "2     c44b9442f5c34b168dd48de49b90ac87             Company Powell and Sons   \n",
              "3     c88d1417b7b94ba99687b05d92ef8c0d               Company Stone-Barajas   \n",
              "4     f2bb3c54379a492a96c7c34eee0f40af                 Company Wu-Chambers   \n",
              "...                                ...                                 ...   \n",
              "4995  9738bb6cbd8545518ae2f72ce70e5471  Company Gordon, Powell and Jackson   \n",
              "4996  d0f022c65c694118b72e82b686202d56                 Company Stewart PLC   \n",
              "4997  a0b39d9652be4d1bb41e4109cae52495   Company Francis, Maynard and Wood   \n",
              "4998  439d78cc8f9b4221b6bcbfe4391aa7a2                 Company Perry Group   \n",
              "4999  7125718b6d9942a9bf8ca496d5a6f6d3     Company Mcgee, Davis and Rangel   \n",
              "\n",
              "             kind                               email       phone  \\\n",
              "0     Electronics            company_smith,@pymes.com  5100466306   \n",
              "1              na  company.johnson-griffith@pymes.com  8100120265   \n",
              "2     Electronics            company.powell@pymes.com  7368357686   \n",
              "3              na     company.stone-barajas@pymes.com  8188320836   \n",
              "4              na       company_wu-chambers@pymes.com  6801955437   \n",
              "...           ...                                 ...         ...   \n",
              "4995           na         company.gordon,68@pymes.com  9094804019   \n",
              "4996  Electronics           company.stewart@pymes.com  1069704895   \n",
              "4997  Electronics          company.francis,@pymes.com  6529352472   \n",
              "4998    Chemistry           company.perry44@pymes.com  4915413935   \n",
              "4999  Electronics            company_mcgee,@pymes.com  3595585541   \n",
              "\n",
              "               description    status  \n",
              "0     nsLx6m2PcYLdtQPwr3SC  Inactive  \n",
              "1     FwSzk7KmKB33qlsnnysj    Active  \n",
              "2     xN1DIUa8wnLHuIdX8BTZ    Active  \n",
              "3     B2SUS9t71lqhTIoY8FzO    Active  \n",
              "4     4xz6IVaqqIDtZEVwISro    Active  \n",
              "...                    ...       ...  \n",
              "4995  C4UL5jJlmg3DH20Pni2q  Inactive  \n",
              "4996  Kmlj6SBb6PQ28LaeImQi    Active  \n",
              "4997  uxmKy3gYB4h3S4HnibDQ  Inactive  \n",
              "4998  uqlpVYqyjsKSFhbohI80    Active  \n",
              "4999  AIAb5MeteWGweqNBtcBw    Active  \n",
              "\n",
              "[5000 rows x 7 columns]"
            ],
            "text/html": [
              "\n",
              "  <div id=\"df-78c07a17-1e02-4b35-885f-84709f871eb3\">\n",
              "    <div class=\"colab-df-container\">\n",
              "      <div>\n",
              "<style scoped>\n",
              "    .dataframe tbody tr th:only-of-type {\n",
              "        vertical-align: middle;\n",
              "    }\n",
              "\n",
              "    .dataframe tbody tr th {\n",
              "        vertical-align: top;\n",
              "    }\n",
              "\n",
              "    .dataframe thead th {\n",
              "        text-align: right;\n",
              "    }\n",
              "</style>\n",
              "<table border=\"1\" class=\"dataframe\">\n",
              "  <thead>\n",
              "    <tr style=\"text-align: right;\">\n",
              "      <th></th>\n",
              "      <th>id</th>\n",
              "      <th>name</th>\n",
              "      <th>kind</th>\n",
              "      <th>email</th>\n",
              "      <th>phone</th>\n",
              "      <th>description</th>\n",
              "      <th>status</th>\n",
              "    </tr>\n",
              "  </thead>\n",
              "  <tbody>\n",
              "    <tr>\n",
              "      <th>0</th>\n",
              "      <td>548943ff619c4beea232f018f34aa74a</td>\n",
              "      <td>Company Smith, Welch and Whitney</td>\n",
              "      <td>Electronics</td>\n",
              "      <td>company_smith,@pymes.com</td>\n",
              "      <td>5100466306</td>\n",
              "      <td>nsLx6m2PcYLdtQPwr3SC</td>\n",
              "      <td>Inactive</td>\n",
              "    </tr>\n",
              "    <tr>\n",
              "      <th>1</th>\n",
              "      <td>ece506e1ff9f455fb207a5183c97b791</td>\n",
              "      <td>Company Johnson-Griffith</td>\n",
              "      <td>na</td>\n",
              "      <td>company.johnson-griffith@pymes.com</td>\n",
              "      <td>8100120265</td>\n",
              "      <td>FwSzk7KmKB33qlsnnysj</td>\n",
              "      <td>Active</td>\n",
              "    </tr>\n",
              "    <tr>\n",
              "      <th>2</th>\n",
              "      <td>c44b9442f5c34b168dd48de49b90ac87</td>\n",
              "      <td>Company Powell and Sons</td>\n",
              "      <td>Electronics</td>\n",
              "      <td>company.powell@pymes.com</td>\n",
              "      <td>7368357686</td>\n",
              "      <td>xN1DIUa8wnLHuIdX8BTZ</td>\n",
              "      <td>Active</td>\n",
              "    </tr>\n",
              "    <tr>\n",
              "      <th>3</th>\n",
              "      <td>c88d1417b7b94ba99687b05d92ef8c0d</td>\n",
              "      <td>Company Stone-Barajas</td>\n",
              "      <td>na</td>\n",
              "      <td>company.stone-barajas@pymes.com</td>\n",
              "      <td>8188320836</td>\n",
              "      <td>B2SUS9t71lqhTIoY8FzO</td>\n",
              "      <td>Active</td>\n",
              "    </tr>\n",
              "    <tr>\n",
              "      <th>4</th>\n",
              "      <td>f2bb3c54379a492a96c7c34eee0f40af</td>\n",
              "      <td>Company Wu-Chambers</td>\n",
              "      <td>na</td>\n",
              "      <td>company_wu-chambers@pymes.com</td>\n",
              "      <td>6801955437</td>\n",
              "      <td>4xz6IVaqqIDtZEVwISro</td>\n",
              "      <td>Active</td>\n",
              "    </tr>\n",
              "    <tr>\n",
              "      <th>...</th>\n",
              "      <td>...</td>\n",
              "      <td>...</td>\n",
              "      <td>...</td>\n",
              "      <td>...</td>\n",
              "      <td>...</td>\n",
              "      <td>...</td>\n",
              "      <td>...</td>\n",
              "    </tr>\n",
              "    <tr>\n",
              "      <th>4995</th>\n",
              "      <td>9738bb6cbd8545518ae2f72ce70e5471</td>\n",
              "      <td>Company Gordon, Powell and Jackson</td>\n",
              "      <td>na</td>\n",
              "      <td>company.gordon,68@pymes.com</td>\n",
              "      <td>9094804019</td>\n",
              "      <td>C4UL5jJlmg3DH20Pni2q</td>\n",
              "      <td>Inactive</td>\n",
              "    </tr>\n",
              "    <tr>\n",
              "      <th>4996</th>\n",
              "      <td>d0f022c65c694118b72e82b686202d56</td>\n",
              "      <td>Company Stewart PLC</td>\n",
              "      <td>Electronics</td>\n",
              "      <td>company.stewart@pymes.com</td>\n",
              "      <td>1069704895</td>\n",
              "      <td>Kmlj6SBb6PQ28LaeImQi</td>\n",
              "      <td>Active</td>\n",
              "    </tr>\n",
              "    <tr>\n",
              "      <th>4997</th>\n",
              "      <td>a0b39d9652be4d1bb41e4109cae52495</td>\n",
              "      <td>Company Francis, Maynard and Wood</td>\n",
              "      <td>Electronics</td>\n",
              "      <td>company.francis,@pymes.com</td>\n",
              "      <td>6529352472</td>\n",
              "      <td>uxmKy3gYB4h3S4HnibDQ</td>\n",
              "      <td>Inactive</td>\n",
              "    </tr>\n",
              "    <tr>\n",
              "      <th>4998</th>\n",
              "      <td>439d78cc8f9b4221b6bcbfe4391aa7a2</td>\n",
              "      <td>Company Perry Group</td>\n",
              "      <td>Chemistry</td>\n",
              "      <td>company.perry44@pymes.com</td>\n",
              "      <td>4915413935</td>\n",
              "      <td>uqlpVYqyjsKSFhbohI80</td>\n",
              "      <td>Active</td>\n",
              "    </tr>\n",
              "    <tr>\n",
              "      <th>4999</th>\n",
              "      <td>7125718b6d9942a9bf8ca496d5a6f6d3</td>\n",
              "      <td>Company Mcgee, Davis and Rangel</td>\n",
              "      <td>Electronics</td>\n",
              "      <td>company_mcgee,@pymes.com</td>\n",
              "      <td>3595585541</td>\n",
              "      <td>AIAb5MeteWGweqNBtcBw</td>\n",
              "      <td>Active</td>\n",
              "    </tr>\n",
              "  </tbody>\n",
              "</table>\n",
              "<p>5000 rows × 7 columns</p>\n",
              "</div>\n",
              "      <button class=\"colab-df-convert\" onclick=\"convertToInteractive('df-78c07a17-1e02-4b35-885f-84709f871eb3')\"\n",
              "              title=\"Convert this dataframe to an interactive table.\"\n",
              "              style=\"display:none;\">\n",
              "        \n",
              "  <svg xmlns=\"http://www.w3.org/2000/svg\" height=\"24px\"viewBox=\"0 0 24 24\"\n",
              "       width=\"24px\">\n",
              "    <path d=\"M0 0h24v24H0V0z\" fill=\"none\"/>\n",
              "    <path d=\"M18.56 5.44l.94 2.06.94-2.06 2.06-.94-2.06-.94-.94-2.06-.94 2.06-2.06.94zm-11 1L8.5 8.5l.94-2.06 2.06-.94-2.06-.94L8.5 2.5l-.94 2.06-2.06.94zm10 10l.94 2.06.94-2.06 2.06-.94-2.06-.94-.94-2.06-.94 2.06-2.06.94z\"/><path d=\"M17.41 7.96l-1.37-1.37c-.4-.4-.92-.59-1.43-.59-.52 0-1.04.2-1.43.59L10.3 9.45l-7.72 7.72c-.78.78-.78 2.05 0 2.83L4 21.41c.39.39.9.59 1.41.59.51 0 1.02-.2 1.41-.59l7.78-7.78 2.81-2.81c.8-.78.8-2.07 0-2.86zM5.41 20L4 18.59l7.72-7.72 1.47 1.35L5.41 20z\"/>\n",
              "  </svg>\n",
              "      </button>\n",
              "      \n",
              "  <style>\n",
              "    .colab-df-container {\n",
              "      display:flex;\n",
              "      flex-wrap:wrap;\n",
              "      gap: 12px;\n",
              "    }\n",
              "\n",
              "    .colab-df-convert {\n",
              "      background-color: #E8F0FE;\n",
              "      border: none;\n",
              "      border-radius: 50%;\n",
              "      cursor: pointer;\n",
              "      display: none;\n",
              "      fill: #1967D2;\n",
              "      height: 32px;\n",
              "      padding: 0 0 0 0;\n",
              "      width: 32px;\n",
              "    }\n",
              "\n",
              "    .colab-df-convert:hover {\n",
              "      background-color: #E2EBFA;\n",
              "      box-shadow: 0px 1px 2px rgba(60, 64, 67, 0.3), 0px 1px 3px 1px rgba(60, 64, 67, 0.15);\n",
              "      fill: #174EA6;\n",
              "    }\n",
              "\n",
              "    [theme=dark] .colab-df-convert {\n",
              "      background-color: #3B4455;\n",
              "      fill: #D2E3FC;\n",
              "    }\n",
              "\n",
              "    [theme=dark] .colab-df-convert:hover {\n",
              "      background-color: #434B5C;\n",
              "      box-shadow: 0px 1px 3px 1px rgba(0, 0, 0, 0.15);\n",
              "      filter: drop-shadow(0px 1px 2px rgba(0, 0, 0, 0.3));\n",
              "      fill: #FFFFFF;\n",
              "    }\n",
              "  </style>\n",
              "\n",
              "      <script>\n",
              "        const buttonEl =\n",
              "          document.querySelector('#df-78c07a17-1e02-4b35-885f-84709f871eb3 button.colab-df-convert');\n",
              "        buttonEl.style.display =\n",
              "          google.colab.kernel.accessAllowed ? 'block' : 'none';\n",
              "\n",
              "        async function convertToInteractive(key) {\n",
              "          const element = document.querySelector('#df-78c07a17-1e02-4b35-885f-84709f871eb3');\n",
              "          const dataTable =\n",
              "            await google.colab.kernel.invokeFunction('convertToInteractive',\n",
              "                                                     [key], {});\n",
              "          if (!dataTable) return;\n",
              "\n",
              "          const docLinkHtml = 'Like what you see? Visit the ' +\n",
              "            '<a target=\"_blank\" href=https://colab.research.google.com/notebooks/data_table.ipynb>data table notebook</a>'\n",
              "            + ' to learn more about interactive tables.';\n",
              "          element.innerHTML = '';\n",
              "          dataTable['output_type'] = 'display_data';\n",
              "          await google.colab.output.renderOutput(dataTable, element);\n",
              "          const docLink = document.createElement('div');\n",
              "          docLink.innerHTML = docLinkHtml;\n",
              "          element.appendChild(docLink);\n",
              "        }\n",
              "      </script>\n",
              "    </div>\n",
              "  </div>\n",
              "  "
            ]
          },
          "metadata": {},
          "execution_count": 72
        }
      ]
    }
  ]
}