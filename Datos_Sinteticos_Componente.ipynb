{
  "nbformat": 4,
  "nbformat_minor": 0,
  "metadata": {
    "colab": {
      "provenance": []
    },
    "kernelspec": {
      "name": "python3",
      "display_name": "Python 3"
    },
    "language_info": {
      "name": "python"
    }
  },
  "cells": [
    {
      "cell_type": "markdown",
      "metadata": {
        "id": "c6482288"
      },
      "source": [
        "# Conjunto de datos para la entidad \"Componentes\""
      ]
    },
    {
      "cell_type": "code",
      "source": [
        "# Uso del Pip install para poder importar la librería faker\n",
        "!pip install faker"
      ],
      "metadata": {
        "colab": {
          "base_uri": "https://localhost:8080/"
        },
        "id": "5Pmntp36v7hn",
        "outputId": "f219719d-da41-426d-f449-4d566f84c2cc"
      },
      "execution_count": 61,
      "outputs": [
        {
          "output_type": "stream",
          "name": "stdout",
          "text": [
            "Looking in indexes: https://pypi.org/simple, https://us-python.pkg.dev/colab-wheels/public/simple/\n",
            "Requirement already satisfied: faker in /usr/local/lib/python3.7/dist-packages (15.3.2)\n",
            "Requirement already satisfied: python-dateutil>=2.4 in /usr/local/lib/python3.7/dist-packages (from faker) (2.8.2)\n",
            "Requirement already satisfied: typing-extensions>=3.10.0.1 in /usr/local/lib/python3.7/dist-packages (from faker) (4.1.1)\n",
            "Requirement already satisfied: six>=1.5 in /usr/local/lib/python3.7/dist-packages (from python-dateutil>=2.4->faker) (1.15.0)\n"
          ]
        }
      ]
    },
    {
      "cell_type": "code",
      "execution_count": 62,
      "metadata": {
        "id": "97b3d6da"
      },
      "outputs": [],
      "source": [
        "# Importar librería pandas para manejar y analizar datos\n",
        "import pandas as pd\n",
        "# Importar librería uuid para crear identificadores únicos.\n",
        "import uuid\n",
        "# Importar librería random para generar datos aleatorios.\n",
        "import random\n",
        "# Importar el paquete faker para generar datos fasos.\n",
        "from faker import Faker"
      ]
    },
    {
      "cell_type": "code",
      "execution_count": 63,
      "metadata": {
        "id": "29f6b5ac"
      },
      "outputs": [],
      "source": [
        "# Delimitación del rango del número de elementos.\n",
        "num_componentes = 5000"
      ]
    },
    {
      "cell_type": "code",
      "execution_count": 64,
      "metadata": {
        "id": "5a145d81"
      },
      "outputs": [],
      "source": [
        "# Una lista de 4 características para la entidad componentes\n",
        "features = [\n",
        "    \"id\",\n",
        "    \"name\",\n",
        "    \"kind\",\n",
        "    \"institution\"\n",
        "]\n",
        "# Creación de un DF para estas características\n",
        "df = pd.DataFrame(columns=features)"
      ]
    },
    {
      "cell_type": "code",
      "execution_count": 65,
      "metadata": {
        "id": "9417eb1d",
        "colab": {
          "base_uri": "https://localhost:8080/",
          "height": 36
        },
        "outputId": "8c26d7c6-3e3d-45b2-c56f-b417c5e426e1"
      },
      "outputs": [
        {
          "output_type": "execute_result",
          "data": {
            "text/plain": [
              "'\\nUso de la biblioteca uuid para generar una cadena aleatoria de caracteres 5000 veces.\\nPor consigiente, se lo asigna al atributo ID en el marco de datos.\\n'"
            ],
            "application/vnd.google.colaboratory.intrinsic+json": {
              "type": "string"
            }
          },
          "metadata": {},
          "execution_count": 65
        }
      ],
      "source": [
        "# Id del componente\n",
        "df['id'] = [uuid.uuid4().hex for i in range(num_componentes)]\n",
        "\"\"\"\n",
        "Uso de la biblioteca uuid para generar una cadena aleatoria de caracteres 5000 veces.\n",
        "Por consigiente, se lo asigna al atributo ID en el marco de datos.\n",
        "\"\"\""
      ]
    },
    {
      "cell_type": "code",
      "execution_count": 66,
      "metadata": {
        "colab": {
          "base_uri": "https://localhost:8080/"
        },
        "id": "4be6d244",
        "outputId": "3697e9f9-f3dd-4128-894d-70c6134cab0f"
      },
      "outputs": [
        {
          "output_type": "stream",
          "name": "stdout",
          "text": [
            "True\n"
          ]
        }
      ],
      "source": [
        "\"\"\"\n",
        "En caso de desear asegurarse de que no se repitieron las ID,\n",
        "puede realizar una verificación simple en el marco de datos con lo siguiente:\n",
        "\"\"\"\n",
        "print(df['id'].nunique()==num_componentes)"
      ]
    },
    {
      "cell_type": "code",
      "execution_count": 67,
      "metadata": {
        "id": "53792c85"
      },
      "outputs": [],
      "source": [
        "# Institución destino del componente\n",
        "institution = [\"Nasa\", \"DoD\"]"
      ]
    },
    {
      "cell_type": "code",
      "execution_count": 68,
      "metadata": {
        "id": "bc4eb9a8",
        "colab": {
          "base_uri": "https://localhost:8080/",
          "height": 53
        },
        "outputId": "e985152f-abc9-4081-e33a-a1ae8086a151"
      },
      "outputs": [
        {
          "output_type": "execute_result",
          "data": {
            "text/plain": [
              "'\\nCon la lista generada de las opciones de institución, se proporciona la\\nfunción de opciones pesos para cada función y la cantidad de opciones hacer representadas\\npor \"k\". Por consiguiente, se asignó al atributo de \"institution\" del marco de datos.\\n'"
            ],
            "application/vnd.google.colaboratory.intrinsic+json": {
              "type": "string"
            }
          },
          "metadata": {},
          "execution_count": 68
        }
      ],
      "source": [
        "df['institution'] = random.choices(\n",
        "    institution, \n",
        "    weights=(47,53), \n",
        "    k=num_componentes\n",
        ")\n",
        "\"\"\"\n",
        "Con la lista generada de las opciones de institución, se proporciona la\n",
        "función de opciones pesos para cada función y la cantidad de opciones hacer representadas\n",
        "por \"k\". Por consiguiente, se asignó al atributo de \"institution\" del marco de datos.\n",
        "\"\"\""
      ]
    },
    {
      "cell_type": "code",
      "execution_count": 73,
      "metadata": {
        "id": "b3fd6f7f"
      },
      "outputs": [],
      "source": [
        "# Nombre del componente\n",
        "# Creación de instancias de falsificador\n",
        "faker = Faker()\n",
        "\n",
        "def name_gen(institution):\n",
        "    \"\"\"\n",
        "    Genera rápidamente un nombre del componente\n",
        "    \"\"\"\n",
        "    faker.nic_handle()\n",
        "        \n",
        "    return faker.nic_handle()\n",
        "    \n",
        "# Generación de nombres para cada usuario\n",
        "df['name'] = ['Component '+name_gen(i) for i in df['institution']]"
      ]
    },
    {
      "cell_type": "code",
      "execution_count": 74,
      "metadata": {
        "id": "hjvZ1r7ZNMg2"
      },
      "outputs": [],
      "source": [
        "# Tipo de componente\n",
        "kind = [\"Electronics\",\n",
        "       \"Chemistry\",\n",
        "       \"na\"]"
      ]
    },
    {
      "cell_type": "code",
      "execution_count": 75,
      "metadata": {
        "id": "rwxmrcTjNMhB",
        "colab": {
          "base_uri": "https://localhost:8080/",
          "height": 53
        },
        "outputId": "31dd819a-8db3-4b32-8c4b-47a40074e14a"
      },
      "outputs": [
        {
          "output_type": "execute_result",
          "data": {
            "text/plain": [
              "'\\nCon la lista generada de las opciones de tipos de componente, se proporciona la\\nfunción de opciones pesos para cada función y la cantidad de opciones hacer representadas\\npor \"k\". Por consiguiente, se asignó al atributo de \"kind\" del marco de datos.\\n'"
            ],
            "application/vnd.google.colaboratory.intrinsic+json": {
              "type": "string"
            }
          },
          "metadata": {},
          "execution_count": 75
        }
      ],
      "source": [
        "df['kind'] = random.choices(\n",
        "    kind, \n",
        "    weights=(35,35,30), \n",
        "    k=num_componentes\n",
        ")\n",
        "\"\"\"\n",
        "Con la lista generada de las opciones de tipos de componente, se proporciona la\n",
        "función de opciones pesos para cada función y la cantidad de opciones hacer representadas\n",
        "por \"k\". Por consiguiente, se asignó al atributo de \"kind\" del marco de datos.\n",
        "\"\"\""
      ]
    },
    {
      "cell_type": "code",
      "execution_count": 76,
      "metadata": {
        "id": "b746f91d"
      },
      "outputs": [],
      "source": [
        "# Guardar el conjunto de datos\n",
        "df.to_csv('dataset_componentes.csv')"
      ]
    },
    {
      "cell_type": "code",
      "execution_count": 77,
      "metadata": {
        "id": "ea5400f3",
        "colab": {
          "base_uri": "https://localhost:8080/",
          "height": 424
        },
        "outputId": "97c9a6c0-dc08-4ce4-9cd5-d5e32a5b6bf2"
      },
      "outputs": [
        {
          "output_type": "execute_result",
          "data": {
            "text/plain": [
              "                                    id                      name         kind  \\\n",
              "0     78eee145f43748dda6b24b52df394217    Component YIRH942-FAKE  Electronics   \n",
              "1     d7ec7f07aff24279bcbd4827f7b47062      Component IAHB3-FAKE           na   \n",
              "2     63def48f05254a7b8df5f5bcd1225ae5     Component RMK398-FAKE    Chemistry   \n",
              "3     0d39daddef554b3db83ccffe0d12c2b9       Component TJS2-FAKE    Chemistry   \n",
              "4     b124338eb0084092b0fb7c4ae9f016fc   Component PHG86554-FAKE    Chemistry   \n",
              "...                                ...                       ...          ...   \n",
              "4995  f5e9fe7c3b82469597642fff4cd1e633     Component MCAM11-FAKE           na   \n",
              "4996  03520b23bc944ba8bb474b76d84a0f1d      Component FID33-FAKE           na   \n",
              "4997  62f428fe7bd7413abb00b26166dd7c8c    Component XIAT651-FAKE  Electronics   \n",
              "4998  6a19fd98cc054e6ca97f63b1fba03f45  Component MNXH63713-FAKE    Chemistry   \n",
              "4999  06f0bbf3f3e8428396b9421d8203bb9b     Component GTJ152-FAKE           na   \n",
              "\n",
              "     institution  \n",
              "0           Nasa  \n",
              "1           Nasa  \n",
              "2            DoD  \n",
              "3           Nasa  \n",
              "4           Nasa  \n",
              "...          ...  \n",
              "4995        Nasa  \n",
              "4996         DoD  \n",
              "4997         DoD  \n",
              "4998         DoD  \n",
              "4999         DoD  \n",
              "\n",
              "[5000 rows x 4 columns]"
            ],
            "text/html": [
              "\n",
              "  <div id=\"df-9c46e3bd-5007-4088-838b-7cd5a59cf32f\">\n",
              "    <div class=\"colab-df-container\">\n",
              "      <div>\n",
              "<style scoped>\n",
              "    .dataframe tbody tr th:only-of-type {\n",
              "        vertical-align: middle;\n",
              "    }\n",
              "\n",
              "    .dataframe tbody tr th {\n",
              "        vertical-align: top;\n",
              "    }\n",
              "\n",
              "    .dataframe thead th {\n",
              "        text-align: right;\n",
              "    }\n",
              "</style>\n",
              "<table border=\"1\" class=\"dataframe\">\n",
              "  <thead>\n",
              "    <tr style=\"text-align: right;\">\n",
              "      <th></th>\n",
              "      <th>id</th>\n",
              "      <th>name</th>\n",
              "      <th>kind</th>\n",
              "      <th>institution</th>\n",
              "    </tr>\n",
              "  </thead>\n",
              "  <tbody>\n",
              "    <tr>\n",
              "      <th>0</th>\n",
              "      <td>78eee145f43748dda6b24b52df394217</td>\n",
              "      <td>Component YIRH942-FAKE</td>\n",
              "      <td>Electronics</td>\n",
              "      <td>Nasa</td>\n",
              "    </tr>\n",
              "    <tr>\n",
              "      <th>1</th>\n",
              "      <td>d7ec7f07aff24279bcbd4827f7b47062</td>\n",
              "      <td>Component IAHB3-FAKE</td>\n",
              "      <td>na</td>\n",
              "      <td>Nasa</td>\n",
              "    </tr>\n",
              "    <tr>\n",
              "      <th>2</th>\n",
              "      <td>63def48f05254a7b8df5f5bcd1225ae5</td>\n",
              "      <td>Component RMK398-FAKE</td>\n",
              "      <td>Chemistry</td>\n",
              "      <td>DoD</td>\n",
              "    </tr>\n",
              "    <tr>\n",
              "      <th>3</th>\n",
              "      <td>0d39daddef554b3db83ccffe0d12c2b9</td>\n",
              "      <td>Component TJS2-FAKE</td>\n",
              "      <td>Chemistry</td>\n",
              "      <td>Nasa</td>\n",
              "    </tr>\n",
              "    <tr>\n",
              "      <th>4</th>\n",
              "      <td>b124338eb0084092b0fb7c4ae9f016fc</td>\n",
              "      <td>Component PHG86554-FAKE</td>\n",
              "      <td>Chemistry</td>\n",
              "      <td>Nasa</td>\n",
              "    </tr>\n",
              "    <tr>\n",
              "      <th>...</th>\n",
              "      <td>...</td>\n",
              "      <td>...</td>\n",
              "      <td>...</td>\n",
              "      <td>...</td>\n",
              "    </tr>\n",
              "    <tr>\n",
              "      <th>4995</th>\n",
              "      <td>f5e9fe7c3b82469597642fff4cd1e633</td>\n",
              "      <td>Component MCAM11-FAKE</td>\n",
              "      <td>na</td>\n",
              "      <td>Nasa</td>\n",
              "    </tr>\n",
              "    <tr>\n",
              "      <th>4996</th>\n",
              "      <td>03520b23bc944ba8bb474b76d84a0f1d</td>\n",
              "      <td>Component FID33-FAKE</td>\n",
              "      <td>na</td>\n",
              "      <td>DoD</td>\n",
              "    </tr>\n",
              "    <tr>\n",
              "      <th>4997</th>\n",
              "      <td>62f428fe7bd7413abb00b26166dd7c8c</td>\n",
              "      <td>Component XIAT651-FAKE</td>\n",
              "      <td>Electronics</td>\n",
              "      <td>DoD</td>\n",
              "    </tr>\n",
              "    <tr>\n",
              "      <th>4998</th>\n",
              "      <td>6a19fd98cc054e6ca97f63b1fba03f45</td>\n",
              "      <td>Component MNXH63713-FAKE</td>\n",
              "      <td>Chemistry</td>\n",
              "      <td>DoD</td>\n",
              "    </tr>\n",
              "    <tr>\n",
              "      <th>4999</th>\n",
              "      <td>06f0bbf3f3e8428396b9421d8203bb9b</td>\n",
              "      <td>Component GTJ152-FAKE</td>\n",
              "      <td>na</td>\n",
              "      <td>DoD</td>\n",
              "    </tr>\n",
              "  </tbody>\n",
              "</table>\n",
              "<p>5000 rows × 4 columns</p>\n",
              "</div>\n",
              "      <button class=\"colab-df-convert\" onclick=\"convertToInteractive('df-9c46e3bd-5007-4088-838b-7cd5a59cf32f')\"\n",
              "              title=\"Convert this dataframe to an interactive table.\"\n",
              "              style=\"display:none;\">\n",
              "        \n",
              "  <svg xmlns=\"http://www.w3.org/2000/svg\" height=\"24px\"viewBox=\"0 0 24 24\"\n",
              "       width=\"24px\">\n",
              "    <path d=\"M0 0h24v24H0V0z\" fill=\"none\"/>\n",
              "    <path d=\"M18.56 5.44l.94 2.06.94-2.06 2.06-.94-2.06-.94-.94-2.06-.94 2.06-2.06.94zm-11 1L8.5 8.5l.94-2.06 2.06-.94-2.06-.94L8.5 2.5l-.94 2.06-2.06.94zm10 10l.94 2.06.94-2.06 2.06-.94-2.06-.94-.94-2.06-.94 2.06-2.06.94z\"/><path d=\"M17.41 7.96l-1.37-1.37c-.4-.4-.92-.59-1.43-.59-.52 0-1.04.2-1.43.59L10.3 9.45l-7.72 7.72c-.78.78-.78 2.05 0 2.83L4 21.41c.39.39.9.59 1.41.59.51 0 1.02-.2 1.41-.59l7.78-7.78 2.81-2.81c.8-.78.8-2.07 0-2.86zM5.41 20L4 18.59l7.72-7.72 1.47 1.35L5.41 20z\"/>\n",
              "  </svg>\n",
              "      </button>\n",
              "      \n",
              "  <style>\n",
              "    .colab-df-container {\n",
              "      display:flex;\n",
              "      flex-wrap:wrap;\n",
              "      gap: 12px;\n",
              "    }\n",
              "\n",
              "    .colab-df-convert {\n",
              "      background-color: #E8F0FE;\n",
              "      border: none;\n",
              "      border-radius: 50%;\n",
              "      cursor: pointer;\n",
              "      display: none;\n",
              "      fill: #1967D2;\n",
              "      height: 32px;\n",
              "      padding: 0 0 0 0;\n",
              "      width: 32px;\n",
              "    }\n",
              "\n",
              "    .colab-df-convert:hover {\n",
              "      background-color: #E2EBFA;\n",
              "      box-shadow: 0px 1px 2px rgba(60, 64, 67, 0.3), 0px 1px 3px 1px rgba(60, 64, 67, 0.15);\n",
              "      fill: #174EA6;\n",
              "    }\n",
              "\n",
              "    [theme=dark] .colab-df-convert {\n",
              "      background-color: #3B4455;\n",
              "      fill: #D2E3FC;\n",
              "    }\n",
              "\n",
              "    [theme=dark] .colab-df-convert:hover {\n",
              "      background-color: #434B5C;\n",
              "      box-shadow: 0px 1px 3px 1px rgba(0, 0, 0, 0.15);\n",
              "      filter: drop-shadow(0px 1px 2px rgba(0, 0, 0, 0.3));\n",
              "      fill: #FFFFFF;\n",
              "    }\n",
              "  </style>\n",
              "\n",
              "      <script>\n",
              "        const buttonEl =\n",
              "          document.querySelector('#df-9c46e3bd-5007-4088-838b-7cd5a59cf32f button.colab-df-convert');\n",
              "        buttonEl.style.display =\n",
              "          google.colab.kernel.accessAllowed ? 'block' : 'none';\n",
              "\n",
              "        async function convertToInteractive(key) {\n",
              "          const element = document.querySelector('#df-9c46e3bd-5007-4088-838b-7cd5a59cf32f');\n",
              "          const dataTable =\n",
              "            await google.colab.kernel.invokeFunction('convertToInteractive',\n",
              "                                                     [key], {});\n",
              "          if (!dataTable) return;\n",
              "\n",
              "          const docLinkHtml = 'Like what you see? Visit the ' +\n",
              "            '<a target=\"_blank\" href=https://colab.research.google.com/notebooks/data_table.ipynb>data table notebook</a>'\n",
              "            + ' to learn more about interactive tables.';\n",
              "          element.innerHTML = '';\n",
              "          dataTable['output_type'] = 'display_data';\n",
              "          await google.colab.output.renderOutput(dataTable, element);\n",
              "          const docLink = document.createElement('div');\n",
              "          docLink.innerHTML = docLinkHtml;\n",
              "          element.appendChild(docLink);\n",
              "        }\n",
              "      </script>\n",
              "    </div>\n",
              "  </div>\n",
              "  "
            ]
          },
          "metadata": {},
          "execution_count": 77
        }
      ],
      "source": [
        "# Mostrar el conjunto de datos\n",
        "pd.read_csv('dataset_componentes.csv', index_col=0) "
      ]
    }
  ]
}