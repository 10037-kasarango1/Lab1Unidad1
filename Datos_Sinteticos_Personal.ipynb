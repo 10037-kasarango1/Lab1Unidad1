{
  "nbformat": 4,
  "nbformat_minor": 0,
  "metadata": {
    "colab": {
      "provenance": []
    },
    "kernelspec": {
      "name": "python3",
      "display_name": "Python 3"
    },
    "language_info": {
      "name": "python"
    }
  },
  "cells": [
    {
      "cell_type": "markdown",
      "metadata": {
        "id": "c6482288"
      },
      "source": [
        "# Conjunto de datos para la entidad \"Personal\"\n",
        "\n",
        "\n"
      ]
    },
    {
      "cell_type": "code",
      "source": [
        "# Uso del Pip install para poder importar la librería faker\n",
        "!pip install faker"
      ],
      "metadata": {
        "colab": {
          "base_uri": "https://localhost:8080/"
        },
        "id": "5Pmntp36v7hn",
        "outputId": "5a742f5e-82be-4027-e1a2-c4989460d22c"
      },
      "execution_count": 57,
      "outputs": [
        {
          "output_type": "stream",
          "name": "stdout",
          "text": [
            "Looking in indexes: https://pypi.org/simple, https://us-python.pkg.dev/colab-wheels/public/simple/\n",
            "Requirement already satisfied: faker in /usr/local/lib/python3.7/dist-packages (15.3.2)\n",
            "Requirement already satisfied: typing-extensions>=3.10.0.1 in /usr/local/lib/python3.7/dist-packages (from faker) (4.1.1)\n",
            "Requirement already satisfied: python-dateutil>=2.4 in /usr/local/lib/python3.7/dist-packages (from faker) (2.8.2)\n",
            "Requirement already satisfied: six>=1.5 in /usr/local/lib/python3.7/dist-packages (from python-dateutil>=2.4->faker) (1.15.0)\n"
          ]
        }
      ]
    },
    {
      "cell_type": "code",
      "execution_count": 58,
      "metadata": {
        "id": "97b3d6da"
      },
      "outputs": [],
      "source": [
        "# Importar librería pandas para manejar y analizar datos\n",
        "import pandas as pd\n",
        "# Importar librería uuid para crear identificadores únicos.\n",
        "import uuid\n",
        "# Importar librería random para generar datos aleatorios.\n",
        "import random\n",
        "# Importar el paquete faker para generar datos fasos.\n",
        "from faker import Faker\n",
        "# Importar ka librería datetime para manejar fechas.\n",
        "import datetime"
      ]
    },
    {
      "cell_type": "code",
      "execution_count": 59,
      "metadata": {
        "id": "29f6b5ac"
      },
      "outputs": [],
      "source": [
        "# Delimitación del rango del número de elementos.\n",
        "num_users = 5000"
      ]
    },
    {
      "cell_type": "code",
      "execution_count": 79,
      "metadata": {
        "id": "5a145d81"
      },
      "outputs": [],
      "source": [
        "# Una lista de 7 características de la entidad personal\n",
        "features = [\n",
        "    \"id\",\n",
        "    \"gender\",\n",
        "    \"name\",\n",
        "    \"email\",\n",
        "    \"dob\",\n",
        "    \"profession\",\n",
        "    \"doe\"\n",
        "]\n",
        "# Creación de un DF para estas características\n",
        "df = pd.DataFrame(columns=features)"
      ]
    },
    {
      "cell_type": "code",
      "execution_count": 80,
      "metadata": {
        "id": "9417eb1d",
        "colab": {
          "base_uri": "https://localhost:8080/",
          "height": 53
        },
        "outputId": "973890f2-fefc-41b3-d22a-22d5faeef042"
      },
      "outputs": [
        {
          "output_type": "execute_result",
          "data": {
            "text/plain": [
              "'\\nUso de la biblioteca uuid para generar una cadena aleatoria de caracteres 5000 veces.\\nPor consigiente, se lo asigna al atributo ID en el marco de datos.\\n'"
            ],
            "application/vnd.google.colaboratory.intrinsic+json": {
              "type": "string"
            }
          },
          "metadata": {},
          "execution_count": 80
        }
      ],
      "source": [
        "# Id del personal\n",
        "df['id'] = [uuid.uuid4().hex for i in range(num_users)]\n",
        "\"\"\"\n",
        "Uso de la biblioteca uuid para generar una cadena aleatoria de caracteres 5000 veces.\n",
        "Por consigiente, se lo asigna al atributo ID en el marco de datos.\n",
        "\"\"\""
      ]
    },
    {
      "cell_type": "code",
      "execution_count": 81,
      "metadata": {
        "colab": {
          "base_uri": "https://localhost:8080/"
        },
        "id": "4be6d244",
        "outputId": "07a35489-9391-4863-95b8-fd0a71e64dbc"
      },
      "outputs": [
        {
          "output_type": "stream",
          "name": "stdout",
          "text": [
            "True\n"
          ]
        }
      ],
      "source": [
        "\"\"\"\n",
        "En caso de desear asegurarse de que no se repitieron las ID,\n",
        "puede realizar una verificación simple en el marco de datos con lo siguiente:\n",
        "\"\"\"\n",
        "print(df['id'].nunique()==num_users)"
      ]
    },
    {
      "cell_type": "code",
      "execution_count": 82,
      "metadata": {
        "id": "53792c85"
      },
      "outputs": [],
      "source": [
        "# Género del personal\n",
        "genders = [\"male\", \"female\", \"na\"]"
      ]
    },
    {
      "cell_type": "code",
      "execution_count": 84,
      "metadata": {
        "id": "bc4eb9a8",
        "colab": {
          "base_uri": "https://localhost:8080/",
          "height": 53
        },
        "outputId": "a8984fb6-beef-412c-f384-77a4a18cf5ae"
      },
      "outputs": [
        {
          "output_type": "execute_result",
          "data": {
            "text/plain": [
              "'\\nCon la lista generada de las opciones de género, se proporciona la función de opciones\\npesos para cada función y la cantidad de opciones hacer representadas por \"k\".\\nPor consiguiente, se asignó al atributo de \"gender\" del marco de datos.\\n'"
            ],
            "application/vnd.google.colaboratory.intrinsic+json": {
              "type": "string"
            }
          },
          "metadata": {},
          "execution_count": 84
        }
      ],
      "source": [
        "df['gender'] = random.choices(\n",
        "    genders, \n",
        "    weights=(47,47,6), \n",
        "    k=num_users\n",
        ")\n",
        "\"\"\"\n",
        "Con la lista generada de las opciones de género, se proporciona la función de opciones\n",
        "pesos para cada función y la cantidad de opciones hacer representadas por \"k\".\n",
        "Por consiguiente, se asignó al atributo de \"gender\" del marco de datos.\n",
        "\"\"\""
      ]
    },
    {
      "cell_type": "code",
      "execution_count": 85,
      "metadata": {
        "id": "b3fd6f7f"
      },
      "outputs": [],
      "source": [
        "# Nombre del personal\n",
        "# Creación de instancias de falsificador\n",
        "faker = Faker()\n",
        "\n",
        "def name_gen(gender):\n",
        "    \"\"\"\n",
        "    Genera rápidamente un nombre basado en el género\n",
        "    \"\"\"\n",
        "    if gender=='male':\n",
        "        return faker.name_male()\n",
        "    elif gender=='female':\n",
        "        return faker.name_female()\n",
        "    \n",
        "    return faker.name()\n",
        "    \n",
        "# Generación de nombres para cada usuario\n",
        "df['name'] = [name_gen(i) for i in df['gender']]"
      ]
    },
    {
      "cell_type": "code",
      "execution_count": 86,
      "metadata": {
        "id": "670b3855"
      },
      "outputs": [],
      "source": [
        "# Email del personal\n",
        "def emailGen(name, duplicateFound=False):\n",
        "    \"\"\"\n",
        "    Genera una dirección de correo electrónico aleatoria basada en el nombre de la persona. \n",
        "    Agrega un número al final si se encontró una dirección duplicada.\n",
        "    \"\"\"\n",
        "    # Nombre de dominio falso para usar\n",
        "    dom = \"@nasa.dod.com\"\n",
        "    \n",
        "    # Mayúsculas y minúsculas\n",
        "    name = name.lower().split(\" \")\n",
        "    \n",
        "    # Carácter aleatorio para insertar en el nombre\n",
        "    chars = [\".\", \"_\"]\n",
        "    \n",
        "    new_name = name[0] + random.choice(chars) + name[1] \n",
        "    \n",
        "    # Distinguir aún más el correo electrónico si se encontró un duplicado\n",
        "    if duplicateFound:\n",
        "        \n",
        "        # Número aleatorio para insertar al final\n",
        "        num = random.randint(0,100)\n",
        "        \n",
        "        # Insertar al final\n",
        "        new_name = new_name + str(num)\n",
        "        \n",
        "    # Devolver la dirección de correo electrónico con el nombre de dominio adjunto\n",
        "    return new_name + dom"
      ]
    },
    {
      "cell_type": "code",
      "execution_count": 88,
      "metadata": {
        "id": "97cd6b45"
      },
      "outputs": [],
      "source": [
        "emails = []\n",
        "\n",
        "for name in df['name']:\n",
        "    \n",
        "    # Generación del correo electrónico\n",
        "    email = emailGen(name)\n",
        "    \n",
        "    # Bucle hasta que se genere un correo electrónico único\n",
        "    while email in emails:\n",
        "        \n",
        "        # Crear un correo electrónico con un número aleatorio\n",
        "        email = emailGen(name, duplicateFound=True)\n",
        "    \n",
        "    # Adjuntar el nuevo correo electrónico a la lista\n",
        "    emails.append(email)\n",
        "    \n",
        "df['email'] = emails"
      ]
    },
    {
      "cell_type": "code",
      "execution_count": 89,
      "metadata": {
        "id": "07a97010"
      },
      "outputs": [],
      "source": [
        "# Fecha de nacimiento del personal\n",
        "def random_dob(start, end, n):\n",
        "    \"\"\"\n",
        "    Generar una lista de un número determinado de marcas de tiempo\n",
        "    \"\"\"\n",
        "    \n",
        "    # El formato de marca de tiempo\n",
        "    frmt = \"%Y-%m-%d\"\n",
        "    \n",
        "    # Dar formato a los dos períodos de tiempo\n",
        "    stime = datetime.datetime.strptime(start, frmt)\n",
        "    etime = datetime.datetime.strptime(end, frmt)\n",
        "    \n",
        "    # Creación del grupo para tiempos aleatorios\n",
        "    td = etime - stime\n",
        "    \n",
        "    # Generar una lista con los tiempos aleatorios\n",
        "    times = [(random.random() * td + stime).strftime(frmt) for _ in range(n)]\n",
        "    \n",
        "    return times\n",
        "\n",
        "df['dob'] = random_dob(\"1989-01-01\", \"1998-01-01\", num_users)"
      ]
    },
    {
      "cell_type": "code",
      "execution_count": 90,
      "metadata": {
        "id": "hjvZ1r7ZNMg2"
      },
      "outputs": [],
      "source": [
        "# Profesión del personal\n",
        "profession = [\"Astronomy\",\n",
        "              \"Physical\",\n",
        "              \"Geology\",\n",
        "              \"Aerospace_Engineering\",\n",
        "              \"Environmental_Engineering\",\n",
        "              \"Telecommunications_Engineering\",\n",
        "              \"Electronic_Engineering\",\n",
        "              \"Computer_Engineering\",\n",
        "              \"Chemical_Engineering\",\n",
        "              \"na\"]"
      ]
    },
    {
      "cell_type": "code",
      "execution_count": 92,
      "metadata": {
        "id": "rwxmrcTjNMhB",
        "colab": {
          "base_uri": "https://localhost:8080/",
          "height": 53
        },
        "outputId": "85a063fd-7367-4b75-c0b6-81a973385c72"
      },
      "outputs": [
        {
          "output_type": "execute_result",
          "data": {
            "text/plain": [
              "'\\nCon la lista generada de las opciones de profesión, se proporciona la función de opciones\\npesos para cada función y la cantidad de opciones hacer representadas por \"k\".\\nPor consiguiente, se asignó al atributo de \"profession\" del marco de datos.\\n'"
            ],
            "application/vnd.google.colaboratory.intrinsic+json": {
              "type": "string"
            }
          },
          "metadata": {},
          "execution_count": 92
        }
      ],
      "source": [
        "df['profession'] = random.choices(\n",
        "    profession, \n",
        "    weights=(11,11,11,11,11,11,11,11,11,1), \n",
        "    k=num_users\n",
        ")\n",
        "\"\"\"\n",
        "Con la lista generada de las opciones de profesión, se proporciona la función de opciones\n",
        "pesos para cada función y la cantidad de opciones hacer representadas por \"k\".\n",
        "Por consiguiente, se asignó al atributo de \"profession\" del marco de datos.\n",
        "\"\"\""
      ]
    },
    {
      "cell_type": "code",
      "source": [
        "# Fecha de Ingreso del personal\n",
        "def random_doe(start, end, n):\n",
        "    \"\"\"\n",
        "    Generar una lista de un número determinado de marcas de tiempo\n",
        "    \"\"\"\n",
        "    \n",
        "    # El formato de marca de tiempo\n",
        "    frmt = \"%Y-%m-%d\"\n",
        "    \n",
        "    # Dar formato a los dos períodos de tiempo\n",
        "    stime = datetime.datetime.strptime(start, frmt)\n",
        "    etime = datetime.datetime.strptime(end, frmt)\n",
        "    \n",
        "    # Creación del grupo para tiempos aleatorios\n",
        "    td = etime - stime\n",
        "    \n",
        "    # Generar una lista con los tiempos aleatorios\n",
        "    times = [(random.random() * td + stime).strftime(frmt) for _ in range(n)]\n",
        "    \n",
        "    return times\n",
        "\n",
        "df['doe'] = random_doe(\"2022-01-01\", \"2022-12-31\", num_users)"
      ],
      "metadata": {
        "id": "Zs520LNvL5uK"
      },
      "execution_count": 94,
      "outputs": []
    },
    {
      "cell_type": "code",
      "execution_count": 95,
      "metadata": {
        "id": "b746f91d"
      },
      "outputs": [],
      "source": [
        "# Guardar el conjunto de datos\n",
        "df.to_csv('dataset_users.csv')"
      ]
    },
    {
      "cell_type": "code",
      "source": [
        "# Mostrar el conjunto de datos\n",
        "pd.read_csv('dataset_users.csv', index_col=0)"
      ],
      "metadata": {
        "colab": {
          "base_uri": "https://localhost:8080/",
          "height": 641
        },
        "id": "qpb0O0OjfRby",
        "outputId": "e187a49c-4991-438f-90f0-11fd0bc1264c"
      },
      "execution_count": 96,
      "outputs": [
        {
          "output_type": "execute_result",
          "data": {
            "text/plain": [
              "                                    id  gender                name  \\\n",
              "0     6bd1039919814b36a285e495db84f519  female     Patricia Morgan   \n",
              "1     50417cdc29de4a65a951b7d47c006ece      na    Gabrielle Monroe   \n",
              "2     41324a2fe0564c4ebea8e410f2bc4bc1      na     Carol Alexander   \n",
              "3     631fe93feffb4bceb208f74a89d87842    male     Bradley Navarro   \n",
              "4     5cb5d5b152154e3ba9c58d1a51f147b9    male      Anthony Graham   \n",
              "...                                ...     ...                 ...   \n",
              "4995  400caeef9302453783d2beacde3f12ba  female     Gloria Williams   \n",
              "4996  26f406bba730488285155594e13be63a    male         Kevin Silva   \n",
              "4997  e5ff4eb0677e4feb8a94170d94a4847d  female   Elizabeth Shaffer   \n",
              "4998  49d94a45e7ce4502b34e9f09d4e1a3b0  female     Amanda Campbell   \n",
              "4999  7de0f689d2e94bb596a4a4ecacc4ffd9    male  Kristopher Collier   \n",
              "\n",
              "                                email         dob  \\\n",
              "0        patricia.morgan@nasa.dod.com  1991-09-14   \n",
              "1       gabrielle.monroe@nasa.dod.com  1996-01-28   \n",
              "2        carol.alexander@nasa.dod.com  1996-03-15   \n",
              "3        bradley_navarro@nasa.dod.com  1989-01-18   \n",
              "4         anthony_graham@nasa.dod.com  1992-09-24   \n",
              "...                               ...         ...   \n",
              "4995     gloria_williams@nasa.dod.com  1997-10-15   \n",
              "4996         kevin.silva@nasa.dod.com  1996-02-07   \n",
              "4997   elizabeth_shaffer@nasa.dod.com  1989-07-01   \n",
              "4998     amanda_campbell@nasa.dod.com  1991-11-20   \n",
              "4999  kristopher_collier@nasa.dod.com  1991-09-06   \n",
              "\n",
              "                          profession         doe  \n",
              "0              Aerospace_Engineering  2022-11-16  \n",
              "1                            Geology  2022-10-15  \n",
              "2               Chemical_Engineering  2022-06-28  \n",
              "3               Chemical_Engineering  2022-08-30  \n",
              "4                          Astronomy  2022-04-15  \n",
              "...                              ...         ...  \n",
              "4995            Computer_Engineering  2022-05-10  \n",
              "4996            Chemical_Engineering  2022-09-12  \n",
              "4997                        Physical  2022-10-02  \n",
              "4998  Telecommunications_Engineering  2022-03-19  \n",
              "4999           Aerospace_Engineering  2022-01-02  \n",
              "\n",
              "[5000 rows x 7 columns]"
            ],
            "text/html": [
              "\n",
              "  <div id=\"df-06b02a81-331d-42d0-b0ec-bf8f95ab90b2\">\n",
              "    <div class=\"colab-df-container\">\n",
              "      <div>\n",
              "<style scoped>\n",
              "    .dataframe tbody tr th:only-of-type {\n",
              "        vertical-align: middle;\n",
              "    }\n",
              "\n",
              "    .dataframe tbody tr th {\n",
              "        vertical-align: top;\n",
              "    }\n",
              "\n",
              "    .dataframe thead th {\n",
              "        text-align: right;\n",
              "    }\n",
              "</style>\n",
              "<table border=\"1\" class=\"dataframe\">\n",
              "  <thead>\n",
              "    <tr style=\"text-align: right;\">\n",
              "      <th></th>\n",
              "      <th>id</th>\n",
              "      <th>gender</th>\n",
              "      <th>name</th>\n",
              "      <th>email</th>\n",
              "      <th>dob</th>\n",
              "      <th>profession</th>\n",
              "      <th>doe</th>\n",
              "    </tr>\n",
              "  </thead>\n",
              "  <tbody>\n",
              "    <tr>\n",
              "      <th>0</th>\n",
              "      <td>6bd1039919814b36a285e495db84f519</td>\n",
              "      <td>female</td>\n",
              "      <td>Patricia Morgan</td>\n",
              "      <td>patricia.morgan@nasa.dod.com</td>\n",
              "      <td>1991-09-14</td>\n",
              "      <td>Aerospace_Engineering</td>\n",
              "      <td>2022-11-16</td>\n",
              "    </tr>\n",
              "    <tr>\n",
              "      <th>1</th>\n",
              "      <td>50417cdc29de4a65a951b7d47c006ece</td>\n",
              "      <td>na</td>\n",
              "      <td>Gabrielle Monroe</td>\n",
              "      <td>gabrielle.monroe@nasa.dod.com</td>\n",
              "      <td>1996-01-28</td>\n",
              "      <td>Geology</td>\n",
              "      <td>2022-10-15</td>\n",
              "    </tr>\n",
              "    <tr>\n",
              "      <th>2</th>\n",
              "      <td>41324a2fe0564c4ebea8e410f2bc4bc1</td>\n",
              "      <td>na</td>\n",
              "      <td>Carol Alexander</td>\n",
              "      <td>carol.alexander@nasa.dod.com</td>\n",
              "      <td>1996-03-15</td>\n",
              "      <td>Chemical_Engineering</td>\n",
              "      <td>2022-06-28</td>\n",
              "    </tr>\n",
              "    <tr>\n",
              "      <th>3</th>\n",
              "      <td>631fe93feffb4bceb208f74a89d87842</td>\n",
              "      <td>male</td>\n",
              "      <td>Bradley Navarro</td>\n",
              "      <td>bradley_navarro@nasa.dod.com</td>\n",
              "      <td>1989-01-18</td>\n",
              "      <td>Chemical_Engineering</td>\n",
              "      <td>2022-08-30</td>\n",
              "    </tr>\n",
              "    <tr>\n",
              "      <th>4</th>\n",
              "      <td>5cb5d5b152154e3ba9c58d1a51f147b9</td>\n",
              "      <td>male</td>\n",
              "      <td>Anthony Graham</td>\n",
              "      <td>anthony_graham@nasa.dod.com</td>\n",
              "      <td>1992-09-24</td>\n",
              "      <td>Astronomy</td>\n",
              "      <td>2022-04-15</td>\n",
              "    </tr>\n",
              "    <tr>\n",
              "      <th>...</th>\n",
              "      <td>...</td>\n",
              "      <td>...</td>\n",
              "      <td>...</td>\n",
              "      <td>...</td>\n",
              "      <td>...</td>\n",
              "      <td>...</td>\n",
              "      <td>...</td>\n",
              "    </tr>\n",
              "    <tr>\n",
              "      <th>4995</th>\n",
              "      <td>400caeef9302453783d2beacde3f12ba</td>\n",
              "      <td>female</td>\n",
              "      <td>Gloria Williams</td>\n",
              "      <td>gloria_williams@nasa.dod.com</td>\n",
              "      <td>1997-10-15</td>\n",
              "      <td>Computer_Engineering</td>\n",
              "      <td>2022-05-10</td>\n",
              "    </tr>\n",
              "    <tr>\n",
              "      <th>4996</th>\n",
              "      <td>26f406bba730488285155594e13be63a</td>\n",
              "      <td>male</td>\n",
              "      <td>Kevin Silva</td>\n",
              "      <td>kevin.silva@nasa.dod.com</td>\n",
              "      <td>1996-02-07</td>\n",
              "      <td>Chemical_Engineering</td>\n",
              "      <td>2022-09-12</td>\n",
              "    </tr>\n",
              "    <tr>\n",
              "      <th>4997</th>\n",
              "      <td>e5ff4eb0677e4feb8a94170d94a4847d</td>\n",
              "      <td>female</td>\n",
              "      <td>Elizabeth Shaffer</td>\n",
              "      <td>elizabeth_shaffer@nasa.dod.com</td>\n",
              "      <td>1989-07-01</td>\n",
              "      <td>Physical</td>\n",
              "      <td>2022-10-02</td>\n",
              "    </tr>\n",
              "    <tr>\n",
              "      <th>4998</th>\n",
              "      <td>49d94a45e7ce4502b34e9f09d4e1a3b0</td>\n",
              "      <td>female</td>\n",
              "      <td>Amanda Campbell</td>\n",
              "      <td>amanda_campbell@nasa.dod.com</td>\n",
              "      <td>1991-11-20</td>\n",
              "      <td>Telecommunications_Engineering</td>\n",
              "      <td>2022-03-19</td>\n",
              "    </tr>\n",
              "    <tr>\n",
              "      <th>4999</th>\n",
              "      <td>7de0f689d2e94bb596a4a4ecacc4ffd9</td>\n",
              "      <td>male</td>\n",
              "      <td>Kristopher Collier</td>\n",
              "      <td>kristopher_collier@nasa.dod.com</td>\n",
              "      <td>1991-09-06</td>\n",
              "      <td>Aerospace_Engineering</td>\n",
              "      <td>2022-01-02</td>\n",
              "    </tr>\n",
              "  </tbody>\n",
              "</table>\n",
              "<p>5000 rows × 7 columns</p>\n",
              "</div>\n",
              "      <button class=\"colab-df-convert\" onclick=\"convertToInteractive('df-06b02a81-331d-42d0-b0ec-bf8f95ab90b2')\"\n",
              "              title=\"Convert this dataframe to an interactive table.\"\n",
              "              style=\"display:none;\">\n",
              "        \n",
              "  <svg xmlns=\"http://www.w3.org/2000/svg\" height=\"24px\"viewBox=\"0 0 24 24\"\n",
              "       width=\"24px\">\n",
              "    <path d=\"M0 0h24v24H0V0z\" fill=\"none\"/>\n",
              "    <path d=\"M18.56 5.44l.94 2.06.94-2.06 2.06-.94-2.06-.94-.94-2.06-.94 2.06-2.06.94zm-11 1L8.5 8.5l.94-2.06 2.06-.94-2.06-.94L8.5 2.5l-.94 2.06-2.06.94zm10 10l.94 2.06.94-2.06 2.06-.94-2.06-.94-.94-2.06-.94 2.06-2.06.94z\"/><path d=\"M17.41 7.96l-1.37-1.37c-.4-.4-.92-.59-1.43-.59-.52 0-1.04.2-1.43.59L10.3 9.45l-7.72 7.72c-.78.78-.78 2.05 0 2.83L4 21.41c.39.39.9.59 1.41.59.51 0 1.02-.2 1.41-.59l7.78-7.78 2.81-2.81c.8-.78.8-2.07 0-2.86zM5.41 20L4 18.59l7.72-7.72 1.47 1.35L5.41 20z\"/>\n",
              "  </svg>\n",
              "      </button>\n",
              "      \n",
              "  <style>\n",
              "    .colab-df-container {\n",
              "      display:flex;\n",
              "      flex-wrap:wrap;\n",
              "      gap: 12px;\n",
              "    }\n",
              "\n",
              "    .colab-df-convert {\n",
              "      background-color: #E8F0FE;\n",
              "      border: none;\n",
              "      border-radius: 50%;\n",
              "      cursor: pointer;\n",
              "      display: none;\n",
              "      fill: #1967D2;\n",
              "      height: 32px;\n",
              "      padding: 0 0 0 0;\n",
              "      width: 32px;\n",
              "    }\n",
              "\n",
              "    .colab-df-convert:hover {\n",
              "      background-color: #E2EBFA;\n",
              "      box-shadow: 0px 1px 2px rgba(60, 64, 67, 0.3), 0px 1px 3px 1px rgba(60, 64, 67, 0.15);\n",
              "      fill: #174EA6;\n",
              "    }\n",
              "\n",
              "    [theme=dark] .colab-df-convert {\n",
              "      background-color: #3B4455;\n",
              "      fill: #D2E3FC;\n",
              "    }\n",
              "\n",
              "    [theme=dark] .colab-df-convert:hover {\n",
              "      background-color: #434B5C;\n",
              "      box-shadow: 0px 1px 3px 1px rgba(0, 0, 0, 0.15);\n",
              "      filter: drop-shadow(0px 1px 2px rgba(0, 0, 0, 0.3));\n",
              "      fill: #FFFFFF;\n",
              "    }\n",
              "  </style>\n",
              "\n",
              "      <script>\n",
              "        const buttonEl =\n",
              "          document.querySelector('#df-06b02a81-331d-42d0-b0ec-bf8f95ab90b2 button.colab-df-convert');\n",
              "        buttonEl.style.display =\n",
              "          google.colab.kernel.accessAllowed ? 'block' : 'none';\n",
              "\n",
              "        async function convertToInteractive(key) {\n",
              "          const element = document.querySelector('#df-06b02a81-331d-42d0-b0ec-bf8f95ab90b2');\n",
              "          const dataTable =\n",
              "            await google.colab.kernel.invokeFunction('convertToInteractive',\n",
              "                                                     [key], {});\n",
              "          if (!dataTable) return;\n",
              "\n",
              "          const docLinkHtml = 'Like what you see? Visit the ' +\n",
              "            '<a target=\"_blank\" href=https://colab.research.google.com/notebooks/data_table.ipynb>data table notebook</a>'\n",
              "            + ' to learn more about interactive tables.';\n",
              "          element.innerHTML = '';\n",
              "          dataTable['output_type'] = 'display_data';\n",
              "          await google.colab.output.renderOutput(dataTable, element);\n",
              "          const docLink = document.createElement('div');\n",
              "          docLink.innerHTML = docLinkHtml;\n",
              "          element.appendChild(docLink);\n",
              "        }\n",
              "      </script>\n",
              "    </div>\n",
              "  </div>\n",
              "  "
            ]
          },
          "metadata": {},
          "execution_count": 96
        }
      ]
    }
  ]
}